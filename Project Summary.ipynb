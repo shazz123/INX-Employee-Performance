{
 "cells": [
  {
   "cell_type": "markdown",
   "id": "7d995d35",
   "metadata": {},
   "source": [
    "# Employee Performance Analysis - INX Future Inc.\n",
    "\n",
    "\n",
    "        Candidate Name : Shahzad Azeez\n",
    "        Email          : shahzadazeez05@gmail.com\n",
    "        Project Code   : 10281\n",
    "        REP Name       : DataMites™ Solutions Pvt Ltd\n",
    "        "
   ]
  },
  {
   "cell_type": "markdown",
   "id": "ecd5c1a7",
   "metadata": {},
   "source": [
    "# Project Summary\n",
    "\n",
    "\n"
   ]
  },
  {
   "cell_type": "markdown",
   "id": "235b3f67",
   "metadata": {},
   "source": [
    "The Data Science project which is given here is an analysis of employee performance form INX Future Inc. The project goal is to find the Performance Rating of the employees from each feature of their data such as Total Work Experience, Gender, Department, Current Role.. Etc., The Goal and Insight of the project as follows:\n",
    "\n",
    "1. Department Wise Performances.\n",
    "2. Top 3 Important Factors Affecting Employee Performance.\n",
    "3. A trained model which can predict the Employee Performance based on factors as inputs. This will be used to hire Employees.\n",
    "4. Recommendations to improve the Employee Performance based on insights from analysis.\n",
    "\n",
    "The given data of employees has 1200 data to perform a higher level machine learning where it is well structured. The features present in the data are 28 in total. The shape of the data is 1200 x 28. The 28 features are classified into quantitative and qualitative where 16 features are qualitative and 11 features are quantitave. The Employee ID data is alpha-numerical data which doesn't play a role as a relevant feature for Performance Rating.\n",
    "\n",
    "The dataset is a complete labelled data and categorical which decides the machine learning algorithm to be used. The important aspects of the data are depending on the correlation of data between features and Performance Rating. The analysis of the project hass gone through the stage of distribution analysis, correlation analysis and analysis by each department to satisfy the project goal.\n",
    "\n",
    "The machine learning model which is used in this project is Random Forest classifier and Gradient Boosted Classifier which pedicted the nearby higher accuracy of 92%. Since it is categorical labelled data, it has to go through the classifier machine learning techniques which will be suitable for this structured data. The numerical features are the most relevant in the model according to correlation technique.\n",
    "\n",
    "One of the goals of this project is to find the important feature affecting the Performance Rating. The important features where predicted using the machine learning model feature importance tachnique. The main technique used in the preprocessing data using the one hot encoding method to convert the string - categorical data into numerical data, because the most of machine learning methods are based on numerical data, because the most of machine learning methods are based on numerical methods where strings are not supportive. The overall project was performed and achieved the goals by using the machine learning model and visualization techniques.\n",
    "\n"
   ]
  },
  {
   "cell_type": "markdown",
   "id": "c00bae1f",
   "metadata": {},
   "source": [
    "# 1. Requirement "
   ]
  },
  {
   "cell_type": "markdown",
   "id": "de092a70",
   "metadata": {},
   "source": [
    "The data was given from the IABAC for this project where the collected source is IABAC. The data is based on INX Future Inc, It is one of the leading data analytics and automation solutions provider with over 15 years of global business presence. The data is not from the organization. The whole project was done in jupyter notebook with python platform. "
   ]
  },
  {
   "cell_type": "markdown",
   "id": "306f0fce",
   "metadata": {},
   "source": [
    "# 2. Analysis\n",
    "\n"
   ]
  },
  {
   "cell_type": "markdown",
   "id": "4c0d8898",
   "metadata": {},
   "source": [
    "Data where analyzed by describing the features present in the data. The features play the bigger part in the analysis. The features tell the relation between the dependent and independent variables. Pandas also help to describe the datasets answering following questions early in our project. The futures present in the data are divided into numerical and categorical data."
   ]
  },
  {
   "cell_type": "markdown",
   "id": "3932e0d6",
   "metadata": {},
   "source": [
    "# Categorical Features "
   ]
  },
  {
   "cell_type": "markdown",
   "id": "6d601e64",
   "metadata": {},
   "source": [
    "These values classify the samples into sets of similar samples. Within categorical features are the values nominal, ordinal, ratio or interval based. The categorical features as follows:\n",
    "\n",
    "  - Gender\n",
    "  - EducationBackground\n",
    "  - MaritalStatus\n",
    "  - EmpDepartment\n",
    "  - EmpJobRole\n",
    "  - BusinessTravelFrequency\n",
    "  - EmpEducationLevel\n",
    "  - EmpJobInvolvement\n",
    "  - EmpJovLevel\n",
    "  - EmpJobSatisfaction\n",
    "  - OverTime\n",
    "  - EmpRelationshipSatisfaction\n",
    "  - EmpWorkLifeBalance\n",
    "  - Attrition\n",
    "  - PerformanceRating\n",
    "        \n",
    "\n",
    "    \n",
    "    "
   ]
  },
  {
   "cell_type": "markdown",
   "id": "04c98163",
   "metadata": {},
   "source": [
    "# Numerical Features"
   ]
  },
  {
   "cell_type": "markdown",
   "id": "1720edef",
   "metadata": {},
   "source": [
    "These values change from sample to sample. Within numerical features are the values discrete, continuous or timeseries based. The Numerical Features as Follows:\n",
    "\n",
    "- Age\n",
    "- DistanceFromHome\n",
    "- EmpHourlyRate\n",
    "- NumCompaniesWorked\n",
    "- EmpLastSalaryHikePercent\n",
    "- TotalWorkExperienceInYears\n",
    "- TrainingTimeLastYear\n",
    "- ExperienceYearsInCurrentRole\n",
    "- ExperienceYearsInCurrentRole\n",
    "- YearsSinceLastPromotion\n",
    "- YearsWithCurrManager\n",
    "    "
   ]
  },
  {
   "cell_type": "markdown",
   "id": "7c3778ce",
   "metadata": {},
   "source": [
    "# Alphanumeric Features"
   ]
  },
  {
   "cell_type": "markdown",
   "id": "54c573c0",
   "metadata": {},
   "source": [
    "Numerical, alphanumeric data within same feature. These are candidates for correcting goal. Employee ID number is a mix of numeric and alphanumeric data types."
   ]
  },
  {
   "cell_type": "markdown",
   "id": "4022674f",
   "metadata": {},
   "source": [
    "# Distribution Of Numerical Features\n"
   ]
  },
  {
   "cell_type": "markdown",
   "id": "129659e7",
   "metadata": {},
   "source": [
    "This helps us to determine, among other early insights, how representative is the training dataset of the actual problem domain.  The distribution can be derived or visualized using the density map between the numerical or categorical features present in the data.\n",
    "\n",
    "- The age distribution is starting from 18 to 60 where the most of the employees are lying between 30 to 40 age count.\n",
    "\n",
    "\n",
    "- The distance from home to office is distributing from 0 unit to 30 unit which can be kilometre or mile. The most of the employees are coming from the range of 0 to 5 units.\n",
    "\n",
    "\n",
    "- Employees are worked in the multiple companies upto 8 companies where most of the employees worked upto 2 companies before getting to work here.\n",
    "\n",
    "\n",
    "- The hourly rate range is 65 to 95 for majority employees work in this company.\n",
    "\n",
    "\n",
    "- In General, Most of the Employees work upto 5 years in this company.\n",
    "\n",
    "\n",
    "- Most of the Employees get 11% to 15% salary hike in this company.\n"
   ]
  },
  {
   "cell_type": "markdown",
   "id": "f84b3301",
   "metadata": {},
   "source": [
    "# Distribution Of Categorical Features"
   ]
  },
  {
   "cell_type": "markdown",
   "id": "abde88a7",
   "metadata": {},
   "source": [
    "- The Gender variance is divided by 60% of male Employees and 40% of Female employees in the company.\n",
    "\n",
    "\n",
    "- The number of the Educational Backgrounds present in the employees is 6 unique backgrounds.\n",
    "\n",
    "\n",
    "- Nineteen unique Employee Job Roles are present in this company.\n",
    "\n",
    "\n",
    "- The most of the employees are having the Education Level of 3.\n",
    "\n",
    "\n",
    "- The Job Satisfaction Level in this company is high level for the majority of employees.\n",
    "\n",
    "\n",
    "- The 85% of employees are not having attrition in their work.\n",
    "\n",
    "\n",
    "- Only 11% of employees in the company where achieved Level 4 - Performance Rating.\n",
    "\n",
    "\n",
    "- The overall Percentage of Employees doing OverTime is 30%."
   ]
  },
  {
   "cell_type": "markdown",
   "id": "2a99eb93",
   "metadata": {},
   "source": [
    "# Data Clean Check"
   ]
  },
  {
   "cell_type": "markdown",
   "id": "41293544",
   "metadata": {},
   "source": [
    "The Data cleaning and wrangling is the part of the Data Science project where the workflow the project go through this stage. Because the damaged and missing data will lead to disaster in the accuracy and quality of the model. If the data is already structured and cleaned, there is no need for the data cleaning. In this case, the give data is well structured, cleaned and there are no missing data present in this data."
   ]
  },
  {
   "cell_type": "markdown",
   "id": "3f47dbcc",
   "metadata": {},
   "source": [
    "# Analysis By Visualization"
   ]
  },
  {
   "cell_type": "markdown",
   "id": "bd820f9e",
   "metadata": {},
   "source": [
    "We can able to perform the analysis by the visualization of the data in 2 forms here in this project. One is by distributing the data and visualize using the density plotting. The other one is nothing but the correlation method which will visualise the correlation heat map and we can able to achieve the correlation values between the numerical features."
   ]
  },
  {
   "cell_type": "markdown",
   "id": "a95db04d",
   "metadata": {},
   "source": [
    "## (i) Distribution Plot\n",
    "\n",
    "\n",
    "In general, One of the first few steps in exploring the data would be to have a rough idea of how the features are distributed with one another. Todo so, we shall invoke the familiar kde plot function from the seaborn plotting library. The distribution has been done by both numerical and categorical features. It will show the overall idea about the density and majority of data present in a different level."
   ]
  },
  {
   "cell_type": "markdown",
   "id": "2e90e0c6",
   "metadata": {},
   "source": [
    "## (ii)  Correlation Plot\n",
    "\n",
    "The next tool in a data explorer's arsenal is that of a correlation matrix. By plotting a correlation matrix, we have a very nice overview of how the features are related to one another. For a pandas DataFrame, we can conveniently use the call corr. which by default provides the pearson Correlation values of the columns pair wise in that data frame. The correlation works bet for numerical data where we are going to use all the numerical features present in the data.\n",
    "\n",
    "From the above Pearson Correlation heat plot, we can be to see that correlation between features with numerical values in the dataset. The heat signatures show the level of correlation from 0 to 1. From this distribution we can derive the facts as follows:\n",
    "   - The Total Years of Experience and Job Level are having the higher correlation when comparing to all features.\n",
    "   \n",
    "   - Experience Years at this company and Years with the current manager has the second higher relation between these features.\n",
    "   \n",
    "   - Experience Years At This Company and Experience in the Current Role makes the sense of correlation. \n",
    "   - People who have more experience with the company has the more probability to get the promotion from the correlation between them.\n",
    "   \n",
    "   - In this plot, the Age has the important role in the total number of work Experince of an Employee where it is a universal truth.\n",
    "   "
   ]
  },
  {
   "cell_type": "markdown",
   "id": "4983fbc3",
   "metadata": {},
   "source": [
    "## Machine Learning Model"
   ]
  },
  {
   "cell_type": "markdown",
   "id": "448fb133",
   "metadata": {},
   "source": [
    "The machine learning models used in this project are \n",
    "\n",
    "- 1. Random Forest Classifier\n",
    "- 2. Gradient Boosted Classifier\n",
    "\n",
    "Both Machine Learning Algorithms are best for classification and labelled data. The train and test data are divided and fitted into the model and passed through the machine learning. Since we have already noted the severe imbalance in the values within the target variable, we implement the SMOTE method in the dealing with this skewed vlue via the learn python package. The predicted data and test data achieved the accuracy rate of,\n",
    "\n",
    "- Random Forest Classifier: 92% \n",
    "\n",
    "- Gradient Boosted Classifier: 91%\n",
    "\n"
   ]
  },
  {
   "cell_type": "markdown",
   "id": "84310190",
   "metadata": {},
   "source": [
    "# 3. Summary"
   ]
  },
  {
   "cell_type": "markdown",
   "id": "d9e2e41d",
   "metadata": {},
   "source": [
    "The machine learning Model has been fitted and predicted with accuracy score. The goal of this project is nothing but the results from the analysis and machine learning model."
   ]
  },
  {
   "cell_type": "markdown",
   "id": "afea59f8",
   "metadata": {},
   "source": [
    "## Goal 1: Department Wise Performance"
   ]
  },
  {
   "cell_type": "markdown",
   "id": "b8a4a56e",
   "metadata": {},
   "source": [
    "In Department Wise Performance, we have to analyze the data from each department present in the category. The DataFrame has to be seperated or sliced according to department wise. In Employee Department feature there are 6 different departments. The performance analysis by the department as follows:\n",
    "\n",
    "- Sales :  The Performance Rating level 3 is more in the sales department. The male performance rating is higher than female. The total work experience does not count the Performance Rating.\n",
    "\n",
    "- Human Resources : The majority of the employees lying under the level 3 performance. The older people are performing low in this department. The Female employees in HR department doing really well in their performance. The total work experience does matter to performance in he department.\n",
    "\n",
    "\n",
    "- Development : The largest number of employees are level 3 performers. Employees of all age are performing at the level of 3 only. The gender - based performance is nearly same for both.\n",
    "\n",
    "\n",
    "- Data Science : The highest average of level 3 performance is in data science department. Data Sciencec is the only department where less number of level 2 performers. The overall performance is higher compared to all departments. The age does not count as important factor in their performance. Male employees are doing good in this department. Same like HR, the number of work experience does matter.\n",
    "\n",
    "\n",
    "- Research & Development : The age factor is not deviating from the level of performance here where different employees with different age are there in every level of performance. The R&D has the good female employees in their performance.\n",
    "\n",
    "\n",
    "- Finance  : The finance department performance is exponentially decreasing when age increases. The male employees are doing good. The experience factor is inversely relating to the performance level.\n",
    "\n",
    "\n"
   ]
  },
  {
   "cell_type": "markdown",
   "id": "48dcf997",
   "metadata": {},
   "source": [
    "# Goal 2: The Top 3 important features affecting the employee performance"
   ]
  },
  {
   "cell_type": "markdown",
   "id": "f928b7cd",
   "metadata": {},
   "source": [
    "The Random Forest Classifier and Gradient Boosted Classifier in sklearn also contains a very convenient and most useful attribute feature importances which tells us which features within our dataset has been given most importance through the ML. The top 3 important features affecting the performance rating are ordered with their importance level as follows:\n",
    "\n",
    "            1. Employment Environment Satisfaction\n",
    "            2. Employee Salary Hike Percentage\n",
    "            3. Years Since The Last Promotion"
   ]
  },
  {
   "cell_type": "markdown",
   "id": "230cb38b",
   "metadata": {},
   "source": [
    "## Goal 3: A trained model which can predict the employee performance"
   ]
  },
  {
   "cell_type": "markdown",
   "id": "70226c4b",
   "metadata": {},
   "source": [
    "The trained model is created using the machine learning algorithm as follows with the accuracy score:\n",
    "\n",
    "\n",
    "   - Random Forest Classifier : 95% accuracy\n",
    "   - Gradient Boosted Classifier : 94% accuracy"
   ]
  },
  {
   "cell_type": "markdown",
   "id": "5a2c277a",
   "metadata": {},
   "source": [
    "### Goal 4 : Recommendations to improve the Employee Performance"
   ]
  },
  {
   "cell_type": "markdown",
   "id": "97429008",
   "metadata": {},
   "source": [
    "-  The overall Employee Performance can be achieved by employee environment satisfaction. The company needs to focus more on the employee environment.\n",
    "\n",
    "- The Salary Hike give the boost to the employees to perform well financially and psychologically.\n",
    "\n",
    "- The promotion will help the employees to achieve more performance by giving the chance to be more responsible and leadership qualitis.\n",
    "\n",
    "- The experience Years In Current Role need to be revised while offering the employment to the new employees.\n",
    "\n",
    "- Employees work-life balance affects the Performance Rating.\n",
    "\n",
    "- While recruiting for HR, consider the female candidates where they perform well compared to male.\n",
    "\n",
    "- The development and Data Science Department is having an overall higher Performance comparing to rest of the departments.\n"
   ]
  }
 ],
 "metadata": {
  "kernelspec": {
   "display_name": "Python 3 (ipykernel)",
   "language": "python",
   "name": "python3"
  },
  "language_info": {
   "codemirror_mode": {
    "name": "ipython",
    "version": 3
   },
   "file_extension": ".py",
   "mimetype": "text/x-python",
   "name": "python",
   "nbconvert_exporter": "python",
   "pygments_lexer": "ipython3",
   "version": "3.8.10"
  }
 },
 "nbformat": 4,
 "nbformat_minor": 5
}
